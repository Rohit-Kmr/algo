{
 "cells": [
  {
   "cell_type": "code",
   "execution_count": 4,
   "metadata": {},
   "outputs": [],
   "source": [
    "from matplotlib.pyplot import *\n",
    "from random import *\n",
    "import numpy"
   ]
  },
  {
   "cell_type": "code",
   "execution_count": 22,
   "metadata": {},
   "outputs": [],
   "source": [
    "def insort(a,c):\n",
    "    i=1\n",
    "    while i<len(a):\n",
    "        j=i-1\n",
    "        x=a[i]\n",
    "        while j>=0 and x<a[j]:\n",
    "            a[j+1]=a[j]\n",
    "            j-=1\n",
    "            c+=1\n",
    "        a[j+1]=x\n",
    "        i+=1\n",
    "    return c\n",
    "        \n",
    "def mergesort(a,i,n,co):\n",
    "    if i>=(n-1):\n",
    "        return 0\n",
    "    x=i+n\n",
    "    x=int(x/2)\n",
    "    co+=mergesort(a,i,x,0)\n",
    "    co+=mergesort(a,x,n,0)\n",
    "    l=i\n",
    "    j=x\n",
    "    c=[]\n",
    "    while j<n and l<x:\n",
    "        co+=1\n",
    "        if a[l]<a[j]:\n",
    "            c.append(a[l])\n",
    "            l+=1\n",
    "        else:\n",
    "            c.append(a[j])\n",
    "            j+=1\n",
    "    if j==n:\n",
    "        while l<x:\n",
    "            co+=1\n",
    "            c.append(a[l])\n",
    "            l+=1\n",
    "    else:\n",
    "        while j<n:\n",
    "            co+=1\n",
    "            c.append(a[j])\n",
    "            j+=1\n",
    "    k=0\n",
    "    while i<n:\n",
    "        a[i]=c[k]\n",
    "        k+=1\n",
    "        i+=1\n",
    "    \n",
    "    return co\n",
    "\n",
    "def quicksort(a,i,n,c):\n",
    "    if i>=(n-1):\n",
    "        return 0\n",
    "    piv=a[i]\n",
    "    d=i+1\n",
    "    u=n-1\n",
    "    while d<=u:\n",
    "        c+=1\n",
    "        while d<n and piv>=a[d]:\n",
    "            d+=1\n",
    "        while u>=i and piv<a[u]:\n",
    "            u-=1\n",
    "        if d>u:\n",
    "            break;\n",
    "        temp=a[d]\n",
    "        a[d]=a[u]\n",
    "        a[u]=temp\n",
    "    a[i]=a[u]\n",
    "    a[u]=piv\n",
    "    c+=quicksort(a,i,u,0)\n",
    "    c+=quicksort(a,u+1,n,0)\n",
    "    \n",
    "    return c"
   ]
  },
  {
   "cell_type": "code",
   "execution_count": 23,
   "metadata": {},
   "outputs": [],
   "source": [
    "a1=[]\n",
    "a2=[]\n",
    "a3=[]\n",
    "b=[]\n",
    "n=10\n",
    "k=0\n",
    "while n<=1010:\n",
    "    a1.append(0)\n",
    "    a2.append(0)\n",
    "    a3.append(0)\n",
    "    for j in range(20):\n",
    "        b=[]\n",
    "        for i in range(n):\n",
    "            b.append(randrange(2000))\n",
    "        c=b\n",
    "        a1[k]+=insort(b,0)\n",
    "        b=c\n",
    "        a2[k]+=mergesort(b,0,len(b),0)\n",
    "        b=c\n",
    "        a3[k]+=quicksort(b,0,len(b),0)\n",
    "    a1[k]=a1[k]/20\n",
    "    a2[k]=a2[k]/20\n",
    "    a3[k]=a3[k]/20\n",
    "    k+=1\n",
    "    n+=10"
   ]
  },
  {
   "cell_type": "code",
   "execution_count": 24,
   "metadata": {},
   "outputs": [
    {
     "data": {
      "text/plain": [
       "[10,\n",
       " 20,\n",
       " 30,\n",
       " 40,\n",
       " 50,\n",
       " 60,\n",
       " 70,\n",
       " 80,\n",
       " 90,\n",
       " 100,\n",
       " 110,\n",
       " 120,\n",
       " 130,\n",
       " 140,\n",
       " 150,\n",
       " 160,\n",
       " 170,\n",
       " 180,\n",
       " 190,\n",
       " 200,\n",
       " 210,\n",
       " 220,\n",
       " 230,\n",
       " 240,\n",
       " 250,\n",
       " 260,\n",
       " 270,\n",
       " 280,\n",
       " 290,\n",
       " 300,\n",
       " 310,\n",
       " 320,\n",
       " 330,\n",
       " 340,\n",
       " 350,\n",
       " 360,\n",
       " 370,\n",
       " 380,\n",
       " 390,\n",
       " 400,\n",
       " 410,\n",
       " 420,\n",
       " 430,\n",
       " 440,\n",
       " 450,\n",
       " 460,\n",
       " 470,\n",
       " 480,\n",
       " 490,\n",
       " 500,\n",
       " 510,\n",
       " 520,\n",
       " 530,\n",
       " 540,\n",
       " 550,\n",
       " 560,\n",
       " 570,\n",
       " 580,\n",
       " 590,\n",
       " 600,\n",
       " 610,\n",
       " 620,\n",
       " 630,\n",
       " 640,\n",
       " 650,\n",
       " 660,\n",
       " 670,\n",
       " 680,\n",
       " 690,\n",
       " 700,\n",
       " 710,\n",
       " 720,\n",
       " 730,\n",
       " 740,\n",
       " 750,\n",
       " 760,\n",
       " 770,\n",
       " 780,\n",
       " 790,\n",
       " 800,\n",
       " 810,\n",
       " 820,\n",
       " 830,\n",
       " 840,\n",
       " 850,\n",
       " 860,\n",
       " 870,\n",
       " 880,\n",
       " 890,\n",
       " 900,\n",
       " 910,\n",
       " 920,\n",
       " 930,\n",
       " 940,\n",
       " 950,\n",
       " 960,\n",
       " 970,\n",
       " 980,\n",
       " 990,\n",
       " 1000,\n",
       " 1010]"
      ]
     },
     "execution_count": 24,
     "metadata": {},
     "output_type": "execute_result"
    }
   ],
   "source": [
    "t=list(range(10,1101))\n",
    "x=[]\n",
    "x=x+t[:1001:10]\n",
    "x"
   ]
  },
  {
   "cell_type": "markdown",
   "metadata": {},
   "source": [
    "## NO OF COMPARISONS"
   ]
  },
  {
   "cell_type": "code",
   "execution_count": 25,
   "metadata": {},
   "outputs": [
    {
     "name": "stdout",
     "output_type": "stream",
     "text": [
      "Insertion sort = [23.05, 94.9, 209.7, 379.0, 630.25, 875.85, 1230.1, 1556.65, 2057.05, 2489.35, 2988.15, 3537.5, 4046.6, 4829.4, 5593.75, 6315.8, 6998.85, 8088.6, 9103.9, 9982.75, 10683.85, 12153.2, 13229.4, 14510.6, 15630.0, 16687.35, 18033.25, 19534.25, 21171.0, 22558.3, 23919.55, 25534.5, 27033.9, 28653.0, 30895.8, 32087.5, 34036.15, 36110.1, 37951.1, 40038.75, 41297.9, 43684.4, 45496.9, 48241.1, 50024.0, 53374.15, 55032.7, 57598.55, 60219.65, 62288.65, 65472.3, 66191.85, 69546.1, 72636.05, 75214.45, 78134.6, 81349.15, 84351.2, 86734.55, 88757.9, 92740.4, 96109.35, 99486.75, 100813.7, 105280.15, 109119.1, 111501.2, 115363.7, 118140.2, 122517.5, 126339.45, 129882.5, 134267.8, 137236.1, 141285.85, 143660.65, 147961.2, 150403.6, 155823.0, 158871.65, 164829.25, 168463.85, 171539.7, 176102.25, 179207.7, 185854.1, 187270.45, 194058.15, 198441.9, 202483.15, 206964.7, 209029.85, 215189.4, 222152.9, 226421.35, 228916.2, 234541.05, 239891.45, 244359.75, 248348.5, 255670.0]\n",
      "\n",
      "Merge sort = [34.0, 88.0, 148.0, 216.0, 286.0, 356.0, 432.0, 512.0, 592.0, 672.0, 752.0, 832.0, 914.0, 1004.0, 1094.0, 1184.0, 1274.0, 1364.0, 1454.0, 1544.0, 1634.0, 1724.0, 1814.0, 1904.0, 1994.0, 2088.0, 2188.0, 2288.0, 2388.0, 2488.0, 2588.0, 2688.0, 2788.0, 2888.0, 2988.0, 3088.0, 3188.0, 3288.0, 3388.0, 3488.0, 3588.0, 3688.0, 3788.0, 3888.0, 3988.0, 4088.0, 4188.0, 4288.0, 4388.0, 4488.0, 4588.0, 4696.0, 4806.0, 4916.0, 5026.0, 5136.0, 5246.0, 5356.0, 5466.0, 5576.0, 5686.0, 5796.0, 5906.0, 6016.0, 6126.0, 6236.0, 6346.0, 6456.0, 6566.0, 6676.0, 6786.0, 6896.0, 7006.0, 7116.0, 7226.0, 7336.0, 7446.0, 7556.0, 7666.0, 7776.0, 7886.0, 7996.0, 8106.0, 8216.0, 8326.0, 8436.0, 8546.0, 8656.0, 8766.0, 8876.0, 8986.0, 9096.0, 9206.0, 9316.0, 9426.0, 9536.0, 9646.0, 9756.0, 9866.0, 9976.0, 10086.0]\n",
      "\n",
      "Quick sort = [9.0, 18.8, 28.85, 38.55, 48.5, 58.2, 67.95, 77.45, 86.75, 96.5, 106.05, 115.6, 125.15, 134.1, 144.45, 153.5, 163.05, 171.15, 180.8, 189.95, 198.2, 208.4, 216.5, 224.95, 235.55, 243.0, 251.25, 260.6, 269.85, 280.35, 287.55, 297.3, 304.0, 312.4, 321.7, 330.5, 338.8, 347.4, 355.45, 364.3, 372.4, 381.4, 387.55, 396.9, 404.4, 415.35, 422.6, 432.0, 439.2, 443.45, 454.4, 463.25, 473.0, 478.5, 486.85, 494.0, 501.05, 510.15, 516.7, 525.15, 533.3, 541.45, 549.4, 556.1, 563.4, 572.6, 579.2, 589.15, 595.3, 603.4, 611.25, 615.8, 621.55, 630.25, 639.3, 645.4, 652.85, 663.2, 669.25, 673.85, 684.2, 688.9, 697.5, 703.8, 713.05, 719.8, 727.8, 735.85, 740.75, 754.95, 752.7, 763.5, 771.7, 777.0, 781.85, 789.9, 798.05, 804.6, 812.3, 821.35, 824.75]\n"
     ]
    }
   ],
   "source": [
    "print(\"Insertion sort = \"+str(a1))\n",
    "print()\n",
    "print(\"Merge sort = \"+str(a2))\n",
    "print()\n",
    "print(\"Quick sort = \"+str(a3))"
   ]
  },
  {
   "cell_type": "markdown",
   "metadata": {},
   "source": [
    "## Insertion sort"
   ]
  },
  {
   "cell_type": "code",
   "execution_count": 26,
   "metadata": {},
   "outputs": [
    {
     "data": {
      "text/plain": [
       "[<matplotlib.lines.Line2D at 0x20131e43668>]"
      ]
     },
     "execution_count": 26,
     "metadata": {},
     "output_type": "execute_result"
    },
    {
     "data": {
      "image/png": "[encoded data removed]",
      "text/plain": [
       "<Figure size 432x288 with 1 Axes>"
      ]
     },
     "metadata": {},
     "output_type": "display_data"
    }
   ],
   "source": [
    "plot(x,a1,'r')\n",
    "z=numpy.polyfit(x,a1,2)\n",
    "p=numpy.poly1d(z)\n",
    "plot(x,p(x),'y--')"
   ]
  },
  {
   "cell_type": "markdown",
   "metadata": {},
   "source": [
    "## Merge sort"
   ]
  },
  {
   "cell_type": "code",
   "execution_count": 27,
   "metadata": {},
   "outputs": [
    {
     "data": {
      "text/plain": [
       "[<matplotlib.lines.Line2D at 0x20131e9fd68>]"
      ]
     },
     "execution_count": 27,
     "metadata": {},
     "output_type": "execute_result"
    },
    {
     "data": {
      "image/png": "[encoded data removed]",
      "text/plain": [
       "<Figure size 432x288 with 1 Axes>"
      ]
     },
     "metadata": {},
     "output_type": "display_data"
    }
   ],
   "source": [
    "plot(x,a2,'g')\n",
    "x2=x*numpy.log(x)\n",
    "z=numpy.polyfit(x2,a2,1)\n",
    "p=numpy.poly1d(z)\n",
    "plot(x,p(x2),'y--')"
   ]
  },
  {
   "cell_type": "markdown",
   "metadata": {},
   "source": [
    "## Quick Sort"
   ]
  },
  {
   "cell_type": "code",
   "execution_count": 28,
   "metadata": {},
   "outputs": [
    {
     "data": {
      "text/plain": [
       "[<matplotlib.lines.Line2D at 0x20131f25fd0>]"
      ]
     },
     "execution_count": 28,
     "metadata": {},
     "output_type": "execute_result"
    },
    {
     "data": {
      "image/png": "[encoded data removed]",
      "text/plain": [
       "<Figure size 432x288 with 1 Axes>"
      ]
     },
     "metadata": {},
     "output_type": "display_data"
    }
   ],
   "source": [
    "plot(x,a3,'b')\n",
    "x2=x*numpy.log(x)\n",
    "z=numpy.polyfit(x2,a3,1)\n",
    "p=numpy.poly1d(z)\n",
    "plot(x,p(x2),'y--')"
   ]
  },
  {
   "cell_type": "markdown",
   "metadata": {},
   "source": [
    "# all graph"
   ]
  },
  {
   "cell_type": "code",
   "execution_count": 29,
   "metadata": {},
   "outputs": [
    {
     "data": {
      "text/plain": [
       "[<matplotlib.lines.Line2D at 0x20131f7aef0>]"
      ]
     },
     "execution_count": 29,
     "metadata": {},
     "output_type": "execute_result"
    },
    {
     "data": {
      "image/png": "[encoded data removed]",
      "text/plain": [
       "<Figure size 432x288 with 1 Axes>"
      ]
     },
     "metadata": {},
     "output_type": "display_data"
    }
   ],
   "source": [
    "plot(x,a1,'r')\n",
    "plot(x,a2,'g')\n",
    "plot(x,a3,'b')"
   ]
  },
  {
   "cell_type": "code",
   "execution_count": 30,
   "metadata": {},
   "outputs": [
    {
     "data": {
      "text/plain": [
       "[<matplotlib.lines.Line2D at 0x20131fb3710>]"
      ]
     },
     "execution_count": 30,
     "metadata": {},
     "output_type": "execute_result"
    },
    {
     "data": {
      "image/png": "[encoded data removed]",
      "text/plain": [
       "<Figure size 432x288 with 1 Axes>"
      ]
     },
     "metadata": {},
     "output_type": "display_data"
    }
   ],
   "source": [
    "z=numpy.polyfit(x,a1,2)\n",
    "p=numpy.poly1d(z)\n",
    "plot(x,p(x),'r--')\n",
    "\n",
    "x2=x*numpy.log(x)\n",
    "z=numpy.polyfit(x2,a2,1)\n",
    "p=numpy.poly1d(z)\n",
    "plot(x,p(x2),'g--')\n",
    "\n",
    "x2=x*numpy.log(x)\n",
    "z=numpy.polyfit(x2,a3,1)\n",
    "p=numpy.poly1d(z)\n",
    "plot(x,p(x2),'b--')"
   ]
  },
  {
   "cell_type": "code",
   "execution_count": null,
   "metadata": {},
   "outputs": [],
   "source": []
  },
  {
   "cell_type": "code",
   "execution_count": null,
   "metadata": {},
   "outputs": [],
   "source": []
  }
 ],
 "metadata": {
  "kernelspec": {
   "display_name": "Python 3",
   "language": "python",
   "name": "python3"
  },
  "language_info": {
   "codemirror_mode": {
    "name": "ipython",
    "version": 3
   },
   "file_extension": ".py",
   "mimetype": "text/x-python",
   "name": "python",
   "nbconvert_exporter": "python",
   "pygments_lexer": "ipython3",
   "version": "3.6.5"
  }
 },
 "nbformat": 4,
 "nbformat_minor": 2
}
